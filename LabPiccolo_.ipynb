{
  "nbformat": 4,
  "nbformat_minor": 0,
  "metadata": {
    "colab": {
      "provenance": [],
      "include_colab_link": true
    },
    "kernelspec": {
      "name": "python3",
      "display_name": "Python 3"
    },
    "language_info": {
      "name": "python"
    }
  },
  "cells": [
    {
      "cell_type": "markdown",
      "metadata": {
        "id": "view-in-github",
        "colab_type": "text"
      },
      "source": [
        "<a href=\"https://colab.research.google.com/github/dondi01/FROsmallproject/blob/main/LabPiccolo_.ipynb\" target=\"_parent\"><img src=\"https://colab.research.google.com/assets/colab-badge.svg\" alt=\"Open In Colab\"/></a>"
      ]
    },
    {
      "cell_type": "code",
      "source": [
        "!pip install mip"
      ],
      "metadata": {
        "colab": {
          "base_uri": "https://localhost:8080/"
        },
        "id": "OmU4sJEFA_vZ",
        "outputId": "bf983e5d-d8d6-4557-ec85-829099557ae9"
      },
      "execution_count": null,
      "outputs": [
        {
          "output_type": "stream",
          "name": "stdout",
          "text": [
            "Looking in indexes: https://pypi.org/simple, https://us-python.pkg.dev/colab-wheels/public/simple/\n",
            "Requirement already satisfied: mip in /usr/local/lib/python3.10/dist-packages (1.15.0)\n",
            "Requirement already satisfied: cffi==1.15.* in /usr/local/lib/python3.10/dist-packages (from mip) (1.15.1)\n",
            "Requirement already satisfied: pycparser in /usr/local/lib/python3.10/dist-packages (from cffi==1.15.*->mip) (2.21)\n"
          ]
        }
      ]
    },
    {
      "cell_type": "code",
      "execution_count": null,
      "metadata": {
        "id": "Kb0d8P9wAU6F",
        "colab": {
          "base_uri": "https://localhost:8080/",
          "height": 380
        },
        "outputId": "02ddf3f0-7377-4d97-d72a-a28189ef00cd"
      },
      "outputs": [
        {
          "output_type": "error",
          "ename": "TypeError",
          "evalue": "ignored",
          "traceback": [
            "\u001b[0;31m---------------------------------------------------------------------------\u001b[0m",
            "\u001b[0;31mTypeError\u001b[0m                                 Traceback (most recent call last)",
            "\u001b[0;32m<ipython-input-9-5413288db5ff>\u001b[0m in \u001b[0;36m<cell line: 32>\u001b[0;34m()\u001b[0m\n\u001b[1;32m     30\u001b[0m \u001b[0;34m\u001b[0m\u001b[0m\n\u001b[1;32m     31\u001b[0m \u001b[0;31m# Objective function\u001b[0m\u001b[0;34m\u001b[0m\u001b[0;34m\u001b[0m\u001b[0m\n\u001b[0;32m---> 32\u001b[0;31m \u001b[0mm\u001b[0m\u001b[0;34m.\u001b[0m\u001b[0mobjective\u001b[0m \u001b[0;34m=\u001b[0m \u001b[0mmip\u001b[0m\u001b[0;34m.\u001b[0m\u001b[0mminimize\u001b[0m\u001b[0;34m(\u001b[0m\u001b[0mmip\u001b[0m\u001b[0;34m.\u001b[0m\u001b[0mxsum\u001b[0m\u001b[0;34m(\u001b[0m\u001b[0mc\u001b[0m\u001b[0;34m[\u001b[0m\u001b[0mi\u001b[0m\u001b[0;34m]\u001b[0m\u001b[0;34m[\u001b[0m\u001b[0mj\u001b[0m\u001b[0;34m]\u001b[0m \u001b[0;34m*\u001b[0m \u001b[0mx\u001b[0m\u001b[0;34m[\u001b[0m\u001b[0mk\u001b[0m\u001b[0;34m]\u001b[0m\u001b[0;34m[\u001b[0m\u001b[0mi\u001b[0m\u001b[0;34m]\u001b[0m\u001b[0;34m[\u001b[0m\u001b[0mj\u001b[0m\u001b[0;34m]\u001b[0m\u001b[0;34m.\u001b[0m\u001b[0mx\u001b[0m \u001b[0;32mfor\u001b[0m \u001b[0mi\u001b[0m \u001b[0;32min\u001b[0m \u001b[0mV\u001b[0m \u001b[0;32mfor\u001b[0m \u001b[0mj\u001b[0m \u001b[0;32min\u001b[0m \u001b[0mV\u001b[0m \u001b[0;32mfor\u001b[0m \u001b[0mk\u001b[0m \u001b[0;32min\u001b[0m \u001b[0mK\u001b[0m\u001b[0;34m)\u001b[0m\u001b[0;34m)\u001b[0m\u001b[0;34m\u001b[0m\u001b[0;34m\u001b[0m\u001b[0m\n\u001b[0m\u001b[1;32m     33\u001b[0m \u001b[0;34m\u001b[0m\u001b[0m\n\u001b[1;32m     34\u001b[0m \u001b[0;31m# Constraints\u001b[0m\u001b[0;34m\u001b[0m\u001b[0;34m\u001b[0m\u001b[0m\n",
            "\u001b[0;32m/usr/local/lib/python3.10/dist-packages/mip/model.py\u001b[0m in \u001b[0;36mxsum\u001b[0;34m(terms)\u001b[0m\n\u001b[1;32m   1559\u001b[0m     \"\"\"\n\u001b[1;32m   1560\u001b[0m     \u001b[0mresult\u001b[0m \u001b[0;34m=\u001b[0m \u001b[0mmip\u001b[0m\u001b[0;34m.\u001b[0m\u001b[0mLinExpr\u001b[0m\u001b[0;34m(\u001b[0m\u001b[0;34m)\u001b[0m\u001b[0;34m\u001b[0m\u001b[0;34m\u001b[0m\u001b[0m\n\u001b[0;32m-> 1561\u001b[0;31m     \u001b[0;32mfor\u001b[0m \u001b[0mterm\u001b[0m \u001b[0;32min\u001b[0m \u001b[0mterms\u001b[0m\u001b[0;34m:\u001b[0m\u001b[0;34m\u001b[0m\u001b[0;34m\u001b[0m\u001b[0m\n\u001b[0m\u001b[1;32m   1562\u001b[0m         \u001b[0mresult\u001b[0m\u001b[0;34m.\u001b[0m\u001b[0madd_term\u001b[0m\u001b[0;34m(\u001b[0m\u001b[0mterm\u001b[0m\u001b[0;34m)\u001b[0m\u001b[0;34m\u001b[0m\u001b[0;34m\u001b[0m\u001b[0m\n\u001b[1;32m   1563\u001b[0m     \u001b[0;32mreturn\u001b[0m \u001b[0mresult\u001b[0m\u001b[0;34m\u001b[0m\u001b[0;34m\u001b[0m\u001b[0m\n",
            "\u001b[0;32m<ipython-input-9-5413288db5ff>\u001b[0m in \u001b[0;36m<genexpr>\u001b[0;34m(.0)\u001b[0m\n\u001b[1;32m     30\u001b[0m \u001b[0;34m\u001b[0m\u001b[0m\n\u001b[1;32m     31\u001b[0m \u001b[0;31m# Objective function\u001b[0m\u001b[0;34m\u001b[0m\u001b[0;34m\u001b[0m\u001b[0m\n\u001b[0;32m---> 32\u001b[0;31m \u001b[0mm\u001b[0m\u001b[0;34m.\u001b[0m\u001b[0mobjective\u001b[0m \u001b[0;34m=\u001b[0m \u001b[0mmip\u001b[0m\u001b[0;34m.\u001b[0m\u001b[0mminimize\u001b[0m\u001b[0;34m(\u001b[0m\u001b[0mmip\u001b[0m\u001b[0;34m.\u001b[0m\u001b[0mxsum\u001b[0m\u001b[0;34m(\u001b[0m\u001b[0mc\u001b[0m\u001b[0;34m[\u001b[0m\u001b[0mi\u001b[0m\u001b[0;34m]\u001b[0m\u001b[0;34m[\u001b[0m\u001b[0mj\u001b[0m\u001b[0;34m]\u001b[0m \u001b[0;34m*\u001b[0m \u001b[0mx\u001b[0m\u001b[0;34m[\u001b[0m\u001b[0mk\u001b[0m\u001b[0;34m]\u001b[0m\u001b[0;34m[\u001b[0m\u001b[0mi\u001b[0m\u001b[0;34m]\u001b[0m\u001b[0;34m[\u001b[0m\u001b[0mj\u001b[0m\u001b[0;34m]\u001b[0m\u001b[0;34m.\u001b[0m\u001b[0mx\u001b[0m \u001b[0;32mfor\u001b[0m \u001b[0mi\u001b[0m \u001b[0;32min\u001b[0m \u001b[0mV\u001b[0m \u001b[0;32mfor\u001b[0m \u001b[0mj\u001b[0m \u001b[0;32min\u001b[0m \u001b[0mV\u001b[0m \u001b[0;32mfor\u001b[0m \u001b[0mk\u001b[0m \u001b[0;32min\u001b[0m \u001b[0mK\u001b[0m\u001b[0;34m)\u001b[0m\u001b[0;34m)\u001b[0m\u001b[0;34m\u001b[0m\u001b[0;34m\u001b[0m\u001b[0m\n\u001b[0m\u001b[1;32m     33\u001b[0m \u001b[0;34m\u001b[0m\u001b[0m\n\u001b[1;32m     34\u001b[0m \u001b[0;31m# Constraints\u001b[0m\u001b[0;34m\u001b[0m\u001b[0;34m\u001b[0m\u001b[0m\n",
            "\u001b[0;31mTypeError\u001b[0m: 'Var' object is not subscriptable"
          ]
        }
      ],
      "source": [
        "import numpy as np\n",
        "import math\n",
        "import networkx as nx\n",
        "import mip\n",
        "\n",
        "\n",
        "n = 6   # number of towns\n",
        "k = 2   # number of buses\n",
        "C = 20  # max number of students per bus\n",
        "\n",
        "# number of students waiting in each town\n",
        "d = [2, 3, 7, 8, 8, 8]\n",
        "\n",
        "V = range(n)  # set of towns. The first town (index 0) contains the ski resort.\n",
        "V0 = V[1:]    # set of towns without the ski resort. Tutte le colonne e la riga 1\n",
        "K = range(k)  # set of buses.\n",
        "\n",
        "np.random.seed(12345)\n",
        "grid_size = 100\n",
        "point = grid_size * np.random.random((n,2))  #matrice n righe, 2 colonne\n",
        "\n",
        "# distance between each pair of towns\n",
        "c = np.array([[math.sqrt(np.sum((point[i] - point[j])**2)) for i in V] for j in V])\n",
        "\n",
        "m = mip.Model()\n",
        "\n",
        "# Variables\n",
        "x = [[m.add_var(var_type=mip.BINARY) for j in V] for i in V for k in K]\n",
        "y = [m.add_var(var_type=mip.BINARY) for i in V for k in K]\n",
        "\n",
        "# Objective function\n",
        "m.objective = mip.minimize(mip.xsum(c[i][j] * x[k][i][j].x for i in V for j in V for k in K))\n",
        "\n",
        "# Constraints\n",
        "for i in V0:\n",
        "    m.add_constr(mip.xsum(y[i*k+k] for k in K) == 1)\n",
        "\n",
        "m.add_constr(mip.xsum(y[0*k+k] for k in K) == k)\n",
        "\n",
        "for i in V:\n",
        "    for k in K:\n",
        "        m.add_constr(mip.xsum(x[i*n+j][k] for j in V) == mip.xsum(x[j*n+i][k] for j in V))\n",
        "\n",
        "for i in V:\n",
        "    for k in K:\n",
        "        m.add_constr(mip.xsum(x[i*n+j][k] for j in V) == y[i*k+k])\n",
        "\n",
        "for k in K:\n",
        "    m.add_constr(mip.xsum(d[i]*y[i*k+k] for i in V) <= C)\n",
        "\n",
        "for S in range(1, n):\n",
        "    for subset in mip.all_subsets(range(1, n), S):\n",
        "        m.add_constr(mip.xsum(x[i*n+j][k] for i in subset for j in subset for k in K) <= S - 1)\n",
        "\n",
        "m.optimize()\n",
        "\n",
        "print(f\"Optimal objective value: {m.objective_value}\")\n",
        "for k in K:\n",
        "    print(f\"Bus {k}: \", end=\"\")\n",
        "    for i in V:\n",
        "        for j in V:\n",
        "            if x[i*n+j][k].x >= 0.99:\n",
        "                print(f\"{i} -> {j} \", end=\"\")\n",
        "    print()\n"
      ]
    },
    {
      "cell_type": "markdown",
      "source": [],
      "metadata": {
        "id": "zah0QZaGGLjh"
      }
    },
    {
      "cell_type": "markdown",
      "source": [],
      "metadata": {
        "id": "robVyCGQGL6P"
      }
    },
    {
      "cell_type": "markdown",
      "source": [],
      "metadata": {
        "id": "DvTqXeUbGMGn"
      }
    },
    {
      "cell_type": "code",
      "source": [
        "import numpy as np\n",
        "import math\n",
        "import networkx as nx\n",
        "import mip\n",
        "\n",
        "n = 6   # number of towns ciao\n",
        "k = 2   # number of buses\n",
        "C = 20  # max number of students per bus\n",
        "\n",
        "# number of students waiting in each town\n",
        "d = [2, 3, 7, 8, 8, 8]\n",
        "\n",
        "V = range(n)  # set of towns. The first town (index 0) contains the ski resort.\n",
        "V0 = V[1:]    # set of towns without the ski resort.\n",
        "K = range(k)  # set of buses.\n",
        "\n",
        "\n",
        "np.random.seed(12345)\n",
        "grid_size = 100\n",
        "point = grid_size * np.random.random((n,2))\n",
        "\n",
        "# distance between each pair of towns\n",
        "c = np.array([[math.sqrt(np.sum((point[i] - point[j])**2)) for i in V] for j in V])\n",
        "\n",
        "# create optimization model\n",
        "m = mip.Model()\n",
        "\n",
        "# create decision variables\n",
        "x = [[[m.add_var(var_type=mip.BINARY) for _ in V] for _ in V] for _ in K]\n",
        "y = [[m.add_var(var_type=mip.BINARY) for _ in V] for _ in K]\n",
        "\n",
        "# add objective function\n",
        "m.objective = mip.minimize(mip.xsum(c[i][j] * x[k][i][j] for i in V for j in V for k in K))\n",
        "\n",
        "# add constraints\n",
        "for i in V0:\n",
        "    m.add_constr(mip.xsum(y[k][i] for k in K) == 1)\n",
        "\n",
        "m.add_constr(mip.xsum(y[k][0] for k in K) == k)\n",
        "\n",
        "for i in V:\n",
        "    for k in K:\n",
        "        m.add_constr(mip.xsum(x[k][i][j] for j in V) == mip.xsum(x[k][j][i] for j in V))\n",
        "\n",
        "for i in V:\n",
        "    for k in K:\n",
        "        m.add_constr(mip.xsum(x[k][i][j] for j in V) == y[k][i])\n",
        "\n",
        "for k in K:\n",
        "    m.add_constr(mip.xsum(d[i]*y[k][i] for i in V) <= C)\n",
        "\n",
        "for S in range(1, n):\n",
        "    for subset in itertools.combinations(V0, S):\n",
        "        m.add_constr(mip.xsum(x[k][i][j] for i in subset for j in subset for k in K) <= len(subset) - 1)\n",
        "\n",
        "# optimize model\n",
        "m.optimize()\n",
        "\n",
        "# print optimal solution\n",
        "print(f\"Optimal value: {m.objective_value:.2f}\")\n",
        "for k in K:\n",
        "    print(f\"Bus {k}:\")\n",
        "    for i in V:\n",
        "        for j in V:\n",
        "            if x[k][i][j].x >= 0.99:\n",
        "                print(f\"\\tvisit town {j}\")\n",
        "    print() \n"
      ],
      "metadata": {
        "id": "kYGhCNqUAbnb",
        "colab": {
          "base_uri": "https://localhost:8080/",
          "height": 232
        },
        "outputId": "4ebad5bc-c4b8-476e-fc99-ce56498e25e5"
      },
      "execution_count": null,
      "outputs": [
        {
          "output_type": "error",
          "ename": "NameError",
          "evalue": "ignored",
          "traceback": [
            "\u001b[0;31m---------------------------------------------------------------------------\u001b[0m",
            "\u001b[0;31mNameError\u001b[0m                                 Traceback (most recent call last)",
            "\u001b[0;32m<ipython-input-4-515fdba49f53>\u001b[0m in \u001b[0;36m<cell line: 52>\u001b[0;34m()\u001b[0m\n\u001b[1;32m     51\u001b[0m \u001b[0;34m\u001b[0m\u001b[0m\n\u001b[1;32m     52\u001b[0m \u001b[0;32mfor\u001b[0m \u001b[0mS\u001b[0m \u001b[0;32min\u001b[0m \u001b[0mrange\u001b[0m\u001b[0;34m(\u001b[0m\u001b[0;36m1\u001b[0m\u001b[0;34m,\u001b[0m \u001b[0mn\u001b[0m\u001b[0;34m)\u001b[0m\u001b[0;34m:\u001b[0m\u001b[0;34m\u001b[0m\u001b[0;34m\u001b[0m\u001b[0m\n\u001b[0;32m---> 53\u001b[0;31m     \u001b[0;32mfor\u001b[0m \u001b[0msubset\u001b[0m \u001b[0;32min\u001b[0m \u001b[0mitertools\u001b[0m\u001b[0;34m.\u001b[0m\u001b[0mcombinations\u001b[0m\u001b[0;34m(\u001b[0m\u001b[0mV0\u001b[0m\u001b[0;34m,\u001b[0m \u001b[0mS\u001b[0m\u001b[0;34m)\u001b[0m\u001b[0;34m:\u001b[0m\u001b[0;34m\u001b[0m\u001b[0;34m\u001b[0m\u001b[0m\n\u001b[0m\u001b[1;32m     54\u001b[0m         \u001b[0mm\u001b[0m\u001b[0;34m.\u001b[0m\u001b[0madd_constr\u001b[0m\u001b[0;34m(\u001b[0m\u001b[0mmip\u001b[0m\u001b[0;34m.\u001b[0m\u001b[0mxsum\u001b[0m\u001b[0;34m(\u001b[0m\u001b[0mx\u001b[0m\u001b[0;34m[\u001b[0m\u001b[0mk\u001b[0m\u001b[0;34m]\u001b[0m\u001b[0;34m[\u001b[0m\u001b[0mi\u001b[0m\u001b[0;34m]\u001b[0m\u001b[0;34m[\u001b[0m\u001b[0mj\u001b[0m\u001b[0;34m]\u001b[0m \u001b[0;32mfor\u001b[0m \u001b[0mi\u001b[0m \u001b[0;32min\u001b[0m \u001b[0msubset\u001b[0m \u001b[0;32mfor\u001b[0m \u001b[0mj\u001b[0m \u001b[0;32min\u001b[0m \u001b[0msubset\u001b[0m \u001b[0;32mfor\u001b[0m \u001b[0mk\u001b[0m \u001b[0;32min\u001b[0m \u001b[0mK\u001b[0m\u001b[0;34m)\u001b[0m \u001b[0;34m<=\u001b[0m \u001b[0mlen\u001b[0m\u001b[0;34m(\u001b[0m\u001b[0msubset\u001b[0m\u001b[0;34m)\u001b[0m \u001b[0;34m-\u001b[0m \u001b[0;36m1\u001b[0m\u001b[0;34m)\u001b[0m\u001b[0;34m\u001b[0m\u001b[0;34m\u001b[0m\u001b[0m\n\u001b[1;32m     55\u001b[0m \u001b[0;34m\u001b[0m\u001b[0m\n",
            "\u001b[0;31mNameError\u001b[0m: name 'itertools' is not defined"
          ]
        }
      ]
    },
    {
      "cell_type": "code",
      "source": [],
      "metadata": {
        "id": "Qk90J4ARQqF3"
      },
      "execution_count": null,
      "outputs": []
    },
    {
      "cell_type": "code",
      "source": [
        "import numpy as np\n",
        "import math\n",
        "import networkx as nx\n",
        "import mip\n",
        "\n",
        "n = 6   # number of towns\n",
        "k = 2   # number of buses\n",
        "C = 20  # max number of students per bus\n",
        "\n",
        "# number of students waiting in each town\n",
        "d = [2, 3, 7, 8, 8, 8]\n",
        "\n",
        "V = range(n)  # set of towns. The first town (index 0) contains the ski resort.\n",
        "V0 = V[1:]    # set of towns without the ski resort. Tutte le colonne e la riga 1\n",
        "K = range(k)  # set of buses.\n",
        "\n",
        "np.random.seed(12345)\n",
        "grid_size = 100\n",
        "point = grid_size * np.random.random((n,2))  #matrice n righe, 2 colonne\n",
        "\n",
        "# distance between each pair of towns\n",
        "c = np.array([[math.sqrt(np.sum((point[i] - point[j])**2)) for i in V] for j in V])\n",
        "\n",
        "m = mip.Model()\n",
        "\n",
        "# Variables\n",
        "x = [[[m.add_var(var_type=mip.BINARY) for _ in V] for _ in V] for _ in K]\n",
        "y = [[m.add_var(var_type=mip.BINARY) for _ in V] for _ in K]\n",
        "\n",
        "# Objective function\n",
        "m.objective = mip.minimize(mip.xsum(c[i][j] * x[k][i][j] for i in V for j in V for k in K))\n",
        "\n",
        "# Constraints\n",
        "for i in V0:\n",
        "    m.add_constr(mip.xsum(y[k][i] for k in K) == 1)\n",
        "\n",
        "m.add_constr(mip.xsum(y[k][0] for k in K) == k)\n",
        "\n",
        "for i in V:\n",
        "    for k in K:\n",
        "        m.add_constr(mip.xsum(x[k][i][j] for j in V) == mip.xsum(x[k][j][i] for j in V))\n",
        "\n",
        "for i in V:\n",
        "    for k in K:\n",
        "        m.add_constr(mip.xsum(x[k][i][j] for j in V) == y[k][i])\n",
        "\n",
        "for k in K:\n",
        "    m.add_constr(mip.xsum(d[i]*y[k][i] for i in V) <= C)\n",
        "\n",
        "for S in range(1, n):\n",
        "    for subset in mip.all_subsets(range(1, n), S):\n",
        "        m.add_constr(mip.xsum(x[k][i][j] for i in subset for j in subset for k in K) <= S - 1)\n",
        "\n",
        "m.optimize()\n",
        "\n",
        "print(f\"Optimal objective value: {m.objective_value}\")\n",
        "for k in K:\n",
        "    print(f\"Bus {k}: \", end=\"\")\n",
        "    for i in V:\n",
        "        for j in V:\n",
        "            if x[k][i][j].x >= 0.99:\n",
        "                print(f\"{i} -> {j} \", end=\"\")\n",
        "    print()\n"
      ],
      "metadata": {
        "colab": {
          "base_uri": "https://localhost:8080/",
          "height": 235
        },
        "id": "hRN2cQi9QqvP",
        "outputId": "43351728-5266-41d6-df41-95262cd4d244"
      },
      "execution_count": null,
      "outputs": [
        {
          "output_type": "error",
          "ename": "AttributeError",
          "evalue": "ignored",
          "traceback": [
            "\u001b[0;31m---------------------------------------------------------------------------\u001b[0m",
            "\u001b[0;31mAttributeError\u001b[0m                            Traceback (most recent call last)",
            "\u001b[0;32m<ipython-input-12-de163121b188>\u001b[0m in \u001b[0;36m<cell line: 50>\u001b[0;34m()\u001b[0m\n\u001b[1;32m     49\u001b[0m \u001b[0;34m\u001b[0m\u001b[0m\n\u001b[1;32m     50\u001b[0m \u001b[0;32mfor\u001b[0m \u001b[0mS\u001b[0m \u001b[0;32min\u001b[0m \u001b[0mrange\u001b[0m\u001b[0;34m(\u001b[0m\u001b[0;36m1\u001b[0m\u001b[0;34m,\u001b[0m \u001b[0mn\u001b[0m\u001b[0;34m)\u001b[0m\u001b[0;34m:\u001b[0m\u001b[0;34m\u001b[0m\u001b[0;34m\u001b[0m\u001b[0m\n\u001b[0;32m---> 51\u001b[0;31m     \u001b[0;32mfor\u001b[0m \u001b[0msubset\u001b[0m \u001b[0;32min\u001b[0m \u001b[0mmip\u001b[0m\u001b[0;34m.\u001b[0m\u001b[0mall_subsets\u001b[0m\u001b[0;34m(\u001b[0m\u001b[0mrange\u001b[0m\u001b[0;34m(\u001b[0m\u001b[0;36m1\u001b[0m\u001b[0;34m,\u001b[0m \u001b[0mn\u001b[0m\u001b[0;34m)\u001b[0m\u001b[0;34m,\u001b[0m \u001b[0mS\u001b[0m\u001b[0;34m)\u001b[0m\u001b[0;34m:\u001b[0m\u001b[0;34m\u001b[0m\u001b[0;34m\u001b[0m\u001b[0m\n\u001b[0m\u001b[1;32m     52\u001b[0m         \u001b[0mm\u001b[0m\u001b[0;34m.\u001b[0m\u001b[0madd_constr\u001b[0m\u001b[0;34m(\u001b[0m\u001b[0mmip\u001b[0m\u001b[0;34m.\u001b[0m\u001b[0mxsum\u001b[0m\u001b[0;34m(\u001b[0m\u001b[0mx\u001b[0m\u001b[0;34m[\u001b[0m\u001b[0mk\u001b[0m\u001b[0;34m]\u001b[0m\u001b[0;34m[\u001b[0m\u001b[0mi\u001b[0m\u001b[0;34m]\u001b[0m\u001b[0;34m[\u001b[0m\u001b[0mj\u001b[0m\u001b[0;34m]\u001b[0m \u001b[0;32mfor\u001b[0m \u001b[0mi\u001b[0m \u001b[0;32min\u001b[0m \u001b[0msubset\u001b[0m \u001b[0;32mfor\u001b[0m \u001b[0mj\u001b[0m \u001b[0;32min\u001b[0m \u001b[0msubset\u001b[0m \u001b[0;32mfor\u001b[0m \u001b[0mk\u001b[0m \u001b[0;32min\u001b[0m \u001b[0mK\u001b[0m\u001b[0;34m)\u001b[0m \u001b[0;34m<=\u001b[0m \u001b[0mS\u001b[0m \u001b[0;34m-\u001b[0m \u001b[0;36m1\u001b[0m\u001b[0;34m)\u001b[0m\u001b[0;34m\u001b[0m\u001b[0;34m\u001b[0m\u001b[0m\n\u001b[1;32m     53\u001b[0m \u001b[0;34m\u001b[0m\u001b[0m\n",
            "\u001b[0;31mAttributeError\u001b[0m: module 'mip' has no attribute 'all_subsets'"
          ]
        }
      ]
    }
  ]
}